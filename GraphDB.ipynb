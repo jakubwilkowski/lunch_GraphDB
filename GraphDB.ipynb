{
 "cells": [
  {
   "cell_type": "markdown",
   "metadata": {
    "slideshow": {
     "slide_type": "slide"
    }
   },
   "source": [
    "# Graph databases\n",
    "\n",
    "## Jakub Wilkowski"
   ]
  },
  {
   "cell_type": "markdown",
   "metadata": {
    "slideshow": {
     "slide_type": "slide"
    }
   },
   "source": [
    "# Graphs\n",
    "\n",
    " * ordered pair G = (V, E) comprising a set V of vertices (nodes, points) together with a set E of edges (arcs, lines), which are 2-element subsets of V\n",
    " * Thanks Euler, thanks...\n",
    " \n",
    "<img src=\"https://github.com/jakubwilkowski/lunch_GraphDB/blob/master/img/bridges.png?raw=true\"/>"
   ]
  },
  {
   "cell_type": "markdown",
   "metadata": {
    "slideshow": {
     "slide_type": "slide"
    }
   },
   "source": [
    "# Graph algorithms\n",
    "\n",
    " * Shortest path\n",
    " * Minimum spanning tree\n",
    " * Strongly connected components\n",
    " * and many, many more\n",
    " "
   ]
  },
  {
   "cell_type": "markdown",
   "metadata": {
    "slideshow": {
     "slide_type": "slide"
    }
   },
   "source": [
    "# Graph databases\n",
    "\n",
    " * There are no isolated pieces of information, but rich, connected domains all around us.\n",
    " * a graph database stores connections as first class citizens\n",
    " "
   ]
  },
  {
   "cell_type": "markdown",
   "metadata": {
    "slideshow": {
     "slide_type": "slide"
    }
   },
   "source": [
    "# Top players\n",
    "\n",
    "<img src=\"https://github.com/jakubwilkowski/lunch__GraphDB/blob/master/img/graphdb_popularity.png?raw=true\">\n",
    "\n",
    "[source](https://db-engines.com/en/ranking/graph+dbms)"
   ]
  },
  {
   "cell_type": "markdown",
   "metadata": {
    "slideshow": {
     "slide_type": "slide"
    }
   },
   "source": [
    "# Wait, but what's wrong with traditional relational databases?"
   ]
  },
  {
   "cell_type": "markdown",
   "metadata": {
    "slideshow": {
     "slide_type": "fragment"
    }
   },
   "source": [
    "* RDBMS are great for storing data that is consistent, well structured\n",
    "* RDBMS do not like recursive queries\n",
    "* RDBMS are not that good for discovering patterns\n",
    "* RDBMS have a lot of overhead with many-to-many relations"
   ]
  },
  {
   "cell_type": "markdown",
   "metadata": {
    "slideshow": {
     "slide_type": "slide"
    }
   },
   "source": [
    "# Relationships are important in life\n",
    "\n"
   ]
  },
  {
   "cell_type": "markdown",
   "metadata": {
    "slideshow": {
     "slide_type": "subslide"
    }
   },
   "source": [
    "# RDBMS way\n",
    "\n",
    "<img src=\"https://github.com/jakubwilkowski/lunch__GraphDB/blob/master/img/m2m_rdbms.png?raw=true\">"
   ]
  },
  {
   "cell_type": "markdown",
   "metadata": {
    "slideshow": {
     "slide_type": "subslide"
    }
   },
   "source": [
    "# And graph database way\n",
    "\n",
    "<img src=\"https://github.com/jakubwilkowski/lunch__GraphDB/blob/master/img/m2m_graph.png?raw=true\">"
   ]
  },
  {
   "cell_type": "markdown",
   "metadata": {
    "slideshow": {
     "slide_type": "slide"
    }
   },
   "source": [
    "# Property graph data model\n",
    "\n",
    "<img src=\"https://github.com/jakubwilkowski/lunch__GraphDB/blob/master/img/property_graph.png?raw=true\">"
   ]
  },
  {
   "cell_type": "markdown",
   "metadata": {
    "slideshow": {
     "slide_type": "slide"
    }
   },
   "source": [
    "# Query language(s):\n",
    "\n",
    " * **Cypher**\n",
    " * Gremlin\n",
    " * SPARQL\n"
   ]
  },
  {
   "cell_type": "markdown",
   "metadata": {
    "slideshow": {
     "slide_type": "slide"
    }
   },
   "source": [
    "# Typical use cases\n",
    "\n",
    "1. Fraud detection\n",
    "\n"
   ]
  },
  {
   "cell_type": "markdown",
   "metadata": {
    "slideshow": {
     "slide_type": "slide"
    }
   },
   "source": [
    "# Data modeling (RDBMS -> Graph)\n",
    "\n",
    " 1. Identify the nodes\n",
    " 2. Assign labels to nodes (zero, one or more)\n",
    " 3. Find relations between nodes\n",
    " 4. Assign properties to nodes and relations\n",
    " \n",
    " \n",
    " [source](https://neo4j.com/developer/guide-data-modeling/)"
   ]
  },
  {
   "cell_type": "markdown",
   "metadata": {
    "slideshow": {
     "slide_type": "slide"
    }
   },
   "source": [
    "# Neo4j\n"
   ]
  },
  {
   "cell_type": "markdown",
   "metadata": {},
   "source": [
    "# Who uses Neo4j?\n",
    "\n",
    " * Walmart\n",
    " * Airbnb\n",
    " * Microsoft\n",
    " * IBM\n",
    " * ebay\n",
    " * NASA\n",
    " * Orange\n",
    " * CISCO\n",
    " * LinkedIn China\n",
    " * TomTom\n",
    " \n",
    " \n",
    " [source](https://neo4j.com/customers/)"
   ]
  },
  {
   "cell_type": "markdown",
   "metadata": {
    "slideshow": {
     "slide_type": "slide"
    }
   },
   "source": [
    "# Cypher"
   ]
  },
  {
   "cell_type": "markdown",
   "metadata": {
    "slideshow": {
     "slide_type": "subslide"
    }
   },
   "source": [
    "## Query examples"
   ]
  }
 ],
 "metadata": {
  "celltoolbar": "Slideshow",
  "kernelspec": {
   "display_name": "Python 3",
   "language": "python",
   "name": "python3"
  },
  "language_info": {
   "codemirror_mode": {
    "name": "ipython",
    "version": 3
   },
   "file_extension": ".py",
   "mimetype": "text/x-python",
   "name": "python",
   "nbconvert_exporter": "python",
   "pygments_lexer": "ipython3",
   "version": "3.5.2"
  },
  "toc": {
   "nav_menu": {},
   "number_sections": false,
   "sideBar": true,
   "skip_h1_title": false,
   "toc_cell": false,
   "toc_position": {},
   "toc_section_display": "block",
   "toc_window_display": true
  }
 },
 "nbformat": 4,
 "nbformat_minor": 2
}

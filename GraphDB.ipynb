{
 "cells": [
  {
   "cell_type": "markdown",
   "metadata": {
    "slideshow": {
     "slide_type": "slide"
    }
   },
   "source": [
    "# Graph databases\n",
    "\n",
    "## Jakub Wilkowski"
   ]
  },
  {
   "cell_type": "markdown",
   "metadata": {
    "slideshow": {
     "slide_type": "slide"
    }
   },
   "source": [
    "# Graphs\n",
    "\n",
    " * ordered pair G = (V, E) comprising a set V of vertices (nodes, points) together with a set E of edges (arcs, lines), which are 2-element subsets of V\n",
    " * Thanks Euler, thanks...\n",
    " \n",
    "<img src=\"https://github.com/jakubwilkowski/lunch_GraphDB/blob/master/img/bridges.png?raw=true\"/>\n",
    "\n",
    "[source](https://en.wikipedia.org/wiki/Seven_Bridges_of_K%C3%B6nigsberg)"
   ]
  },
  {
   "cell_type": "markdown",
   "metadata": {
    "slideshow": {
     "slide_type": "slide"
    }
   },
   "source": [
    "# Graph algorithms\n",
    "\n",
    " * Shortest path\n",
    " * Minimum spanning tree\n",
    " * Strongly connected components\n",
    " * and many, many more\n",
    " "
   ]
  },
  {
   "cell_type": "markdown",
   "metadata": {
    "slideshow": {
     "slide_type": "slide"
    }
   },
   "source": [
    "# Graph databases\n",
    "\n",
    " * There are no isolated pieces of information, but rich, connected domains all around us.\n",
    " * a graph database stores connections as first class citizens\n",
    " "
   ]
  },
  {
   "cell_type": "markdown",
   "metadata": {
    "slideshow": {
     "slide_type": "slide"
    }
   },
   "source": [
    "# Top players\n",
    "\n",
    "<img src=\"https://github.com/jakubwilkowski/lunch_GraphDB/blob/master/img/graphdb_popularity.png?raw=true\">\n",
    "\n",
    "[source](https://db-engines.com/en/ranking/graph+dbms)"
   ]
  },
  {
   "cell_type": "markdown",
   "metadata": {
    "slideshow": {
     "slide_type": "slide"
    }
   },
   "source": [
    "# Wait, but what's wrong with traditional relational databases?"
   ]
  },
  {
   "cell_type": "markdown",
   "metadata": {
    "slideshow": {
     "slide_type": "fragment"
    }
   },
   "source": [
    "* RDBMS are great for storing data that is consistent, well structured\n",
    "* RDBMS do not like recursive queries\n",
    "* RDBMS are not that good for discovering patterns\n",
    "* RDBMS have a lot of overhead with many-to-many relations"
   ]
  },
  {
   "cell_type": "markdown",
   "metadata": {
    "slideshow": {
     "slide_type": "slide"
    }
   },
   "source": [
    "# Relationships are important in life\n",
    "\n",
    "<iframe src=\"https://giphy.com/embed/R8RscTZV7Iy7m\" width=\"480\" height=\"362\" frameBorder=\"0\" class=\"giphy-embed\" allowFullScreen></iframe>\n"
   ]
  },
  {
   "cell_type": "markdown",
   "metadata": {
    "slideshow": {
     "slide_type": "subslide"
    }
   },
   "source": [
    "# RDBMS way\n",
    "\n",
    "<img src=\"https://github.com/jakubwilkowski/lunch_GraphDB/blob/master/img/m2m_rdbms.png?raw=true\">\n",
    "\n",
    "[source](https://neo4j.com/developer/graph-db-vs-rdbms/#_relational_databases)"
   ]
  },
  {
   "cell_type": "markdown",
   "metadata": {
    "slideshow": {
     "slide_type": "subslide"
    }
   },
   "source": [
    "# And graph database way\n",
    "\n",
    "<img src=\"https://github.com/jakubwilkowski/lunch_GraphDB/blob/master/img/m2m_graph.png?raw=true\">\n",
    "\n",
    "[source](https://neo4j.com/developer/graph-db-vs-rdbms/#_relational_databases)"
   ]
  },
  {
   "cell_type": "markdown",
   "metadata": {
    "slideshow": {
     "slide_type": "slide"
    }
   },
   "source": [
    "# Property graph data model\n",
    "\n",
    "<img src=\"https://github.com/jakubwilkowski/lunch_GraphDB/blob/master/img/property_graph.png?raw=true\">"
   ]
  },
  {
   "cell_type": "markdown",
   "metadata": {
    "slideshow": {
     "slide_type": "slide"
    }
   },
   "source": [
    "# Query language(s):\n",
    "\n",
    " * **Cypher**\n",
    " * Gremlin\n",
    " * SPARQL\n"
   ]
  },
  {
   "cell_type": "markdown",
   "metadata": {
    "slideshow": {
     "slide_type": "slide"
    }
   },
   "source": [
    "# Typical use cases\n",
    "\n",
    "1. Fraud detection\n",
    "1. Recommendation engines\n",
    "\n"
   ]
  },
  {
   "cell_type": "markdown",
   "metadata": {
    "slideshow": {
     "slide_type": "slide"
    }
   },
   "source": [
    "# Data modeling (RDBMS -> Graph)\n",
    "\n",
    " 1. Identify the nodes\n",
    " 2. Assign labels to nodes (zero, one or more)\n",
    " 3. Find relations between nodes\n",
    " 4. Assign properties to nodes and relations\n",
    " \n",
    " \n",
    " > Two _people_, **John** and **Sally**, \\_are friends\\_. Both John and Sally \\_have read\\_ the _book_, **Graph Databases**.\n",
    " \n",
    "\n",
    " [source](https://neo4j.com/developer/guide-data-modeling/)"
   ]
  },
  {
   "cell_type": "markdown",
   "metadata": {
    "slideshow": {
     "slide_type": "slide"
    }
   },
   "source": [
    "# Neo4j\n",
    "\n",
    " * ACID compliant\n",
    " * written in Java\n",
    " * v1 in 2010 (now 3.3.3)\n",
    " * Community/Enterprise/Government\n",
    " * own bolt protocol on port 7474"
   ]
  },
  {
   "cell_type": "markdown",
   "metadata": {
    "slideshow": {
     "slide_type": "slide"
    }
   },
   "source": [
    "# Who uses Neo4j?\n",
    "\n",
    " * Walmart\n",
    " * Airbnb\n",
    " * Microsoft\n",
    " * IBM\n",
    " * ebay\n",
    " * NASA\n",
    " * Orange\n",
    " * CISCO\n",
    " * LinkedIn China\n",
    " * TomTom\n",
    " \n",
    " \n",
    " [source](https://neo4j.com/customers/)"
   ]
  },
  {
   "cell_type": "markdown",
   "metadata": {
    "slideshow": {
     "slide_type": "slide"
    }
   },
   "source": [
    "# Cypher"
   ]
  },
  {
   "cell_type": "markdown",
   "metadata": {
    "slideshow": {
     "slide_type": "fragment"
    }
   },
   "source": [
    " * declarative graph query language\n",
    " * created by Neo Technology\n",
    " * opened up in October 2015\n",
    " * ASCII like"
   ]
  },
  {
   "cell_type": "markdown",
   "metadata": {
    "slideshow": {
     "slide_type": "fragment"
    }
   },
   "source": [
    "```\n",
    "( )                    <- node\n",
    "--                     <- relation\n",
    "-->                    <- directed relation\n",
    "-[:LABEL]-             <- labeled relation\n",
    "()-->()                <- two nodes and one direction\n",
    "\n",
    "```"
   ]
  },
  {
   "cell_type": "markdown",
   "metadata": {
    "slideshow": {
     "slide_type": "subslide"
    }
   },
   "source": [
    "<img src=\"https://github.com/jakubwilkowski/lunch_GraphDB/blob/master/img/cypher.png?raw=true\">\n",
    "\n",
    "[source](https://neo4j.com/developer/cypher-query-language/)"
   ]
  },
  {
   "cell_type": "markdown",
   "metadata": {
    "slideshow": {
     "slide_type": "subslide"
    }
   },
   "source": [
    "## Query examples\n",
    "`:play movie-graph`"
   ]
  },
  {
   "cell_type": "markdown",
   "metadata": {
    "slideshow": {
     "slide_type": "slide"
    }
   },
   "source": [
    "# Examples: Cypher vs SQL"
   ]
  },
  {
   "cell_type": "markdown",
   "metadata": {
    "slideshow": {
     "slide_type": "subslide"
    }
   },
   "source": [
    "## Q1: List all Tom Hanks movies...\n",
    "\n",
    "### Cypher: \n",
    "```SQL\n",
    "MATCH (tom:Person {name: \"Tom Hanks\"})-[:ACTED_IN]->(tomHanksMovies) \n",
    "RETURN tom,tomHanksMovies\n",
    "```\n",
    "\n",
    "### SQL\n",
    "```SQL\n",
    "select p.name, m.title\n",
    "from person p\n",
    "inner join movieperson mp\n",
    "  on mp.person_id = p.id\n",
    "inner join movie m\n",
    "  on m.id = mp.movie_id\n",
    "where p.name = 'Tom Hanks' and mp.relation_type = 'acted_in';\n",
    "\n",
    "```\n"
   ]
  },
  {
   "cell_type": "markdown",
   "metadata": {
    "slideshow": {
     "slide_type": "subslide"
    }
   },
   "source": [
    "## Q2: Tom Hanks' co-actors...\n",
    "### Cypher: \n",
    "```SQL\n",
    "MATCH (tom:Person {name:\"Tom Hanks\"})-[:ACTED_IN]->(m)<-[:ACTED_IN]-(coActors) \n",
    "RETURN distinct coActors.name\n",
    "```\n",
    "\n",
    "### SQL\n",
    "```SQL\n",
    "with tom_hanks_movies as (\n",
    "select m.id\n",
    "from person p\n",
    "inner join movieperson mp\n",
    "  on mp.person_id = p.id\n",
    "inner join movie m\n",
    "  on m.id = mp.movie_id\n",
    "where p.name = 'Tom Hanks' and mp.relation_type = 'acted_in'\n",
    ")\n",
    "\n",
    "select distinct p.name\n",
    "from person p\n",
    "inner join movieperson mp\n",
    "  on mp.person_id = p.id\n",
    "inner join movie m\n",
    "  on m.id = mp.movie_id\n",
    "where mp.movie_id in (select id from tom_hanks_movies) \n",
    "  and mp.relation_type = 'acted_in'\n",
    "  and p.name != 'Tom Hanks';\n",
    "\n",
    "```"
   ]
  },
  {
   "cell_type": "markdown",
   "metadata": {
    "slideshow": {
     "slide_type": "subslide"
    }
   },
   "source": [
    "## Q3: How people are related to \"Cloud Atlas\"...\n",
    "### Cypher: \n",
    "```SQL\n",
    "MATCH (people:Person)-[relatedTo]-(:Movie {title: \"Cloud Atlas\"}) \n",
    "RETURN people.name, Type(relatedTo), relatedTo\n",
    "```\n",
    "\n",
    "### SQL\n",
    "\n",
    "```SQL\n",
    "select p.name, mp.relation_type\n",
    "from person p\n",
    "inner join movieperson mp\n",
    "  on mp.person_id = p.id\n",
    "inner join movie m\n",
    "  on m.id = mp.movie_id\n",
    "where m.title = 'Cloud Atlas';\n",
    "```\n",
    "\n",
    "### Note:\n",
    "I chose a naive schema, what if I decided to create separate table for each relation, ie. moviedirector, movieactor, movieproducer, etc?\n",
    "-> SELECT ... FROM moviedirector UNION SELECT ... FROM movieactor UNION SELECT ... FROM movieproducer;"
   ]
  },
  {
   "cell_type": "markdown",
   "metadata": {
    "slideshow": {
     "slide_type": "subslide"
    }
   },
   "source": [
    "## Q4: Movies and actors up to 4 \"hops\" away from Kevin Bacon\n",
    "### Cypher: \n",
    "```SQL\n",
    "MATCH (bacon:Person {name:\"Kevin Bacon\"})-[*1..4]-(hollywood)\n",
    "RETURN DISTINCT hollywood\n",
    "```\n",
    "\n",
    "### SQL\n",
    "```SQL\n",
    "with recursive bacon(pid, mid, lvl) as (\n",
    "select distinct p.id, m.id, 1\n",
    "from person p\n",
    "inner join movieperson mp\n",
    "  on mp.person_id = p.id\n",
    "inner join movie m\n",
    "  on m.id = mp.movie_id\n",
    "where p.name = 'Kevin Bacon'\n",
    "UNION ALL\n",
    "select distinct mp.person_id, mp.movie_id, b.lvl + 1\n",
    "from movieperson mp\n",
    "inner join bacon b\n",
    "  on (b.mid = mp.movie_id OR mp.person_id = b.pid)\n",
    "where (b.lvl < 4)\n",
    ")\n",
    "```"
   ]
  },
  {
   "cell_type": "markdown",
   "metadata": {
    "slideshow": {
     "slide_type": "subslide"
    }
   },
   "source": [
    "## Q4: continued\n",
    "\n",
    "```SQL\n",
    "select distinct p.name\n",
    "from bacon b\n",
    "inner join person p\n",
    "  on p.id = b.pid\n",
    "UNION ALL\n",
    "select distinct m.title\n",
    "from bacon b\n",
    "inner join movie m\n",
    "  on m.id = b.mid;\n",
    "```"
   ]
  },
  {
   "cell_type": "markdown",
   "metadata": {
    "slideshow": {
     "slide_type": "subslide"
    }
   },
   "source": [
    "## Q5: Bacon path, the shortest path of any relationships to Meg Ryan\n",
    "### Cypher: \n",
    "```SQL\n",
    "MATCH (bacon:Person {name:\"Kevin Bacon\"})-[*]-(meg:Person {name:\"Meg Ryan\"})\n",
    "RETURN bacon, meg;\n",
    "```\n",
    "\n",
    "### SQL\n",
    "```SQL\n",
    "with recursive bacon(pid, mid, lvl) as (\n",
    "select distinct p.id, m.id, 1\n",
    "from person p\n",
    "inner join movieperson mp\n",
    "\ton mp.person_id = p.id\n",
    "inner join movie m\n",
    "\ton m.id = mp.movie_id\n",
    "where p.name = 'Kevin Bacon' and mp.relation_type = 'acted_in'\n",
    "UNION ALL\n",
    "select distinct mp.person_id, mp.movie_id, b.lvl + 1\n",
    "from movieperson mp\n",
    "inner join bacon b\n",
    "\ton (b.mid = mp.movie_id OR mp.person_id = b.pid)\n",
    "where mp.relation_type = 'acted_in' and (b.lvl < 10)\n",
    ")\n",
    "```"
   ]
  },
  {
   "cell_type": "markdown",
   "metadata": {
    "slideshow": {
     "slide_type": "subslide"
    }
   },
   "source": [
    "## Q5: continued\n",
    "\n",
    "```SQL\n",
    "select min(b.lvl)\n",
    "from bacon b\n",
    "inner join person p\n",
    "\ton p.id = b.pid\n",
    "where  p.name = 'Meg Ryan';\n",
    "```"
   ]
  },
  {
   "cell_type": "markdown",
   "metadata": {
    "slideshow": {
     "slide_type": "slide"
    }
   },
   "source": [
    "# Neo4j & python"
   ]
  },
  {
   "cell_type": "markdown",
   "metadata": {
    "slideshow": {
     "slide_type": "slide"
    }
   },
   "source": [
    "# py2neo\n",
    "\n",
    "[docs](http://py2neo.org/2.0/)"
   ]
  },
  {
   "cell_type": "markdown",
   "metadata": {
    "slideshow": {
     "slide_type": "subslide"
    }
   },
   "source": [
    "## Quick setup\n",
    "\n",
    "```\n",
    "docker run --publish=7474:7474 \\\n",
    "    --publish=7687:7687 \\\n",
    "    --volume=$HOME/neo4j/data:/data \\\n",
    "    --env=NEO4J_AUTH=none \\\n",
    "    neo4j\n",
    "```"
   ]
  },
  {
   "cell_type": "code",
   "execution_count": 2,
   "metadata": {
    "slideshow": {
     "slide_type": "fragment"
    }
   },
   "outputs": [],
   "source": [
    "from py2neo import Graph, Relationship, NodeSelector\n",
    "\n",
    "graph = Graph(\"http://localhost:7474/\")"
   ]
  },
  {
   "cell_type": "markdown",
   "metadata": {
    "slideshow": {
     "slide_type": "subslide"
    }
   },
   "source": [
    "## Some examples"
   ]
  },
  {
   "cell_type": "markdown",
   "metadata": {
    "slideshow": {
     "slide_type": "subslide"
    }
   },
   "source": [
    "## Select Tom Hanks\n"
   ]
  },
  {
   "cell_type": "code",
   "execution_count": 9,
   "metadata": {},
   "outputs": [
    {
     "data": {
      "text/plain": [
       "[(a5b194b:Person {born:1956,name:\"Tom Hanks\"})]"
      ]
     },
     "execution_count": 9,
     "metadata": {},
     "output_type": "execute_result"
    }
   ],
   "source": [
    "selector = NodeSelector(graph)\n",
    "selected = selector.select(\"Person\", name=\"Tom Hanks\")\n",
    "list(selected)"
   ]
  },
  {
   "cell_type": "markdown",
   "metadata": {
    "slideshow": {
     "slide_type": "subslide"
    }
   },
   "source": [
    "## Some 'raw' queries"
   ]
  },
  {
   "cell_type": "code",
   "execution_count": 10,
   "metadata": {
    "scrolled": true
   },
   "outputs": [
    {
     "data": {
      "text/plain": [
       "[{'a.name': 'Emil Eifrem', 'm.title': 'The Matrix'},\n",
       " {'a.name': 'Joel Silver', 'm.title': 'The Matrix'},\n",
       " {'a.name': 'Lana Wachowski', 'm.title': 'The Matrix'},\n",
       " {'a.name': 'Lilly Wachowski', 'm.title': 'The Matrix'},\n",
       " {'a.name': 'Hugo Weaving', 'm.title': 'The Matrix'},\n",
       " {'a.name': 'Laurence Fishburne', 'm.title': 'The Matrix'},\n",
       " {'a.name': 'Carrie-Anne Moss', 'm.title': 'The Matrix'},\n",
       " {'a.name': 'Keanu Reeves', 'm.title': 'The Matrix'},\n",
       " {'a.name': 'Joel Silver', 'm.title': 'The Matrix Reloaded'},\n",
       " {'a.name': 'Lana Wachowski', 'm.title': 'The Matrix Reloaded'}]"
      ]
     },
     "execution_count": 10,
     "metadata": {},
     "output_type": "execute_result"
    }
   ],
   "source": [
    "graph.data(\"MATCH (a:Person)-[]-(m:Movie) RETURN a.name, m.title LIMIT 10\")"
   ]
  },
  {
   "cell_type": "markdown",
   "metadata": {
    "slideshow": {
     "slide_type": "subslide"
    }
   },
   "source": [
    "## Creation & transactions!"
   ]
  },
  {
   "cell_type": "code",
   "execution_count": 28,
   "metadata": {},
   "outputs": [],
   "source": [
    "from py2neo import Node, Relationship\n",
    "from py2neo.database import Schema, Transaction\n",
    "\n",
    "tx = graph.begin()\n",
    "\n",
    "andrzej = Node(\"Person\", name=\"Andrzej Grabowski\", born=1952)\n",
    "kiepscy = Node(\"Movie\", title=\"Świat wg kiepskich\")\n",
    "pitbull = Node(\"Movie\", title=\"Pitbull. nowe porządki\")\n",
    "listy = Node(\"Movie\", title=\"Listy do M. 3\")\n",
    "\n",
    "graph.create(andrzej)\n",
    "graph.create(kiepscy)\n",
    "graph.create(pitbull)\n",
    "graph.create(listy)\n",
    "graph.create(Relationship(andrzej, \"ACTED_IN\", kiepscy))\n",
    "graph.create(Relationship(andrzej, \"ACTED_IN\", pitbull))\n",
    "graph.create(Relationship(andrzej, \"ACTED_IN\", listy))\n",
    "\n",
    "tx.commit()"
   ]
  },
  {
   "cell_type": "markdown",
   "metadata": {
    "slideshow": {
     "slide_type": "subslide"
    }
   },
   "source": [
    "## More accurate dates"
   ]
  },
  {
   "cell_type": "code",
   "execution_count": 29,
   "metadata": {},
   "outputs": [],
   "source": [
    "from py2neo.ext.calendar import GregorianCalendar\n",
    "\n",
    "calendar = GregorianCalendar(graph)\n",
    "birth = Relationship(andrzej, \"BORN\", calendar.date(1952, 3, 15).day)\n",
    "graph.create(birth)"
   ]
  },
  {
   "cell_type": "markdown",
   "metadata": {
    "slideshow": {
     "slide_type": "subslide"
    }
   },
   "source": [
    "## Indexing"
   ]
  },
  {
   "cell_type": "code",
   "execution_count": 18,
   "metadata": {
    "scrolled": false
   },
   "outputs": [
    {
     "name": "stdout",
     "output_type": "stream",
     "text": [
      "\u001b[36m> POST http://localhost:7474/db/data/schema/index/Person [26]\u001b[0m\n",
      "\u001b[36m< 200 OK [56]\u001b[0m\n"
     ]
    }
   ],
   "source": [
    "from py2neo import watch\n",
    "watch(\"httpstream\")\n",
    "\n",
    "graph.schema.create_index('Person', 'name')\n",
    "\n",
    "# graph.schema.drop_index('Person', 'name')"
   ]
  },
  {
   "cell_type": "markdown",
   "metadata": {
    "slideshow": {
     "slide_type": "slide"
    }
   },
   "source": [
    "# ipython-cypher magic\n",
    "\n",
    "https://github.com/versae/ipython-cypher"
   ]
  },
  {
   "cell_type": "code",
   "execution_count": 3,
   "metadata": {
    "slideshow": {
     "slide_type": "subslide"
    }
   },
   "outputs": [],
   "source": [
    "%load_ext cypher"
   ]
  },
  {
   "cell_type": "code",
   "execution_count": 4,
   "metadata": {},
   "outputs": [
    {
     "name": "stdout",
     "output_type": "stream",
     "text": [
      "12 rows affected.\n"
     ]
    },
    {
     "data": {
      "text/html": [
       "<table>\n",
       "    <tr>\n",
       "        <th>TomHanksMovies</th>\n",
       "    </tr>\n",
       "    <tr>\n",
       "        <td>Charlie Wilson&#x27;s War</td>\n",
       "    </tr>\n",
       "    <tr>\n",
       "        <td>The Polar Express</td>\n",
       "    </tr>\n",
       "    <tr>\n",
       "        <td>A League of Their Own</td>\n",
       "    </tr>\n",
       "    <tr>\n",
       "        <td>Cast Away</td>\n",
       "    </tr>\n",
       "    <tr>\n",
       "        <td>Apollo 13</td>\n",
       "    </tr>\n",
       "    <tr>\n",
       "        <td>The Green Mile</td>\n",
       "    </tr>\n",
       "    <tr>\n",
       "        <td>The Da Vinci Code</td>\n",
       "    </tr>\n",
       "    <tr>\n",
       "        <td>Cloud Atlas</td>\n",
       "    </tr>\n",
       "    <tr>\n",
       "        <td>That Thing You Do</td>\n",
       "    </tr>\n",
       "    <tr>\n",
       "        <td>Joe Versus the Volcano</td>\n",
       "    </tr>\n",
       "    <tr>\n",
       "        <td>Sleepless in Seattle</td>\n",
       "    </tr>\n",
       "    <tr>\n",
       "        <td>You&#x27;ve Got Mail</td>\n",
       "    </tr>\n",
       "</table>"
      ],
      "text/plain": [
       "[[\"Charlie Wilson's War\"],\n",
       " ['The Polar Express'],\n",
       " ['A League of Their Own'],\n",
       " ['Cast Away'],\n",
       " ['Apollo 13'],\n",
       " ['The Green Mile'],\n",
       " ['The Da Vinci Code'],\n",
       " ['Cloud Atlas'],\n",
       " ['That Thing You Do'],\n",
       " ['Joe Versus the Volcano'],\n",
       " ['Sleepless in Seattle'],\n",
       " [\"You've Got Mail\"]]"
      ]
     },
     "execution_count": 4,
     "metadata": {},
     "output_type": "execute_result"
    }
   ],
   "source": [
    "%cypher MATCH (a {name: 'Tom Hanks'})-[:ACTED_IN]-(b) RETURN b.title as TomHanksMovies"
   ]
  }
 ],
 "metadata": {
  "celltoolbar": "Slideshow",
  "kernelspec": {
   "display_name": "Python 3",
   "language": "python",
   "name": "python3"
  },
  "language_info": {
   "codemirror_mode": {
    "name": "ipython",
    "version": 3
   },
   "file_extension": ".py",
   "mimetype": "text/x-python",
   "name": "python",
   "nbconvert_exporter": "python",
   "pygments_lexer": "ipython3",
   "version": "3.5.2"
  },
  "toc": {
   "nav_menu": {},
   "number_sections": false,
   "sideBar": true,
   "skip_h1_title": false,
   "title_cell": "Table of Contents",
   "title_sidebar": "Contents",
   "toc_cell": false,
   "toc_position": {},
   "toc_section_display": "block",
   "toc_window_display": true
  }
 },
 "nbformat": 4,
 "nbformat_minor": 2
}
